{
 "cells": [
  {
   "cell_type": "code",
   "execution_count": 1,
   "metadata": {},
   "outputs": [
    {
     "data": {
      "text/plain": [
       "('azure', '.net', 20.933192346640453)"
      ]
     },
     "execution_count": 1,
     "metadata": {},
     "output_type": "execute_result"
    }
   ],
   "source": [
    "import pandas as pd\n",
    "df=pd.read_csv('stack_overflow_edgelist.csv', sep=',',header=0)\n",
    "df.values\n",
    "\n",
    "firstCol = df.iloc[:,0]\n",
    "firstCol[1]\n",
    "\n",
    "secondCol = df.iloc[:,1]\n",
    "secondCol[0]\n",
    "\n",
    "#converts the col of number strings to floats and stores results in thirdColFloats list\n",
    "thirdColFloats = list()\n",
    "thirdCol = df.iloc[:,2]\n",
    "for newF in thirdCol:\n",
    "    thirdColFloats.append(float(newF))\n",
    "thirdColFloats\n",
    "\n",
    "#packs fCol,sCol,tColFloats into a tuple for add edge function later\n",
    "tupleEdges = list(zip(firstCol,secondCol,thirdColFloats))\n",
    "tupleEdges[0]"
   ]
  },
  {
   "cell_type": "code",
   "execution_count": 2,
   "metadata": {},
   "outputs": [],
   "source": [
    "nodeNoRepeat = list()\n",
    "for k in firstCol:\n",
    "    if k not in nodeNoRepeat:\n",
    "        nodeNoRepeat.append(k)\n",
    "\n",
    "for i in secondCol: #just incase there was a target node not in the source\n",
    "    if i not in nodeNoRepeat:\n",
    "        nodeNoRepeat.append(i)\n",
    "\n",
    "#nodeNoRepeat #list of all nodes"
   ]
  },
  {
   "cell_type": "code",
   "execution_count": 5,
   "metadata": {},
   "outputs": [
    {
     "name": "stdout",
     "output_type": "stream",
     "text": [
      "Name: \n",
      "Type: DiGraph\n",
      "Number of nodes: 115\n",
      "Number of edges: 490\n",
      "Average in degree:   4.2609\n",
      "Average out degree:   4.2609\n"
     ]
    },
    {
     "data": {
      "image/png": "[encoded data removed]",
      "text/plain": [
       "<Figure size 432x288 with 1 Axes>"
      ]
     },
     "metadata": {},
     "output_type": "display_data"
    }
   ],
   "source": [
    "import networkx as nx\n",
    "import matplotlib.pyplot as plt\n",
    "\n",
    "g=nx.DiGraph()\n",
    "\n",
    "#add the nodes to the graph\n",
    "g.add_nodes_from(nodeNoRepeat)\n",
    "\n",
    "#add weigthed edges from tuple created earlier\n",
    "g.add_weighted_edges_from(tupleEdges)\n",
    "\n",
    "\n",
    "\n",
    "#print graph info as well as image of graph\n",
    "print(nx.info(g))\n",
    "nx.draw(g)\n",
    "plt.show()"
   ]
  },
  {
   "cell_type": "code",
   "execution_count": 4,
   "metadata": {},
   "outputs": [
    {
     "name": "stdout",
     "output_type": "stream",
     "text": [
      "Top 10 page rank nodes: \n",
      "\t ('css', 0.024720588501132967)\n",
      "\t ('c#', 0.02371331087233847)\n",
      "\t ('jquery', 0.022743074427649015)\n",
      "\t ('asp.net', 0.022240775454020704)\n",
      "\t ('linux', 0.022187155521953175)\n",
      "\t ('spring', 0.020541825066040464)\n",
      "\t ('hibernate', 0.01880181941480898)\n",
      "\t ('javascript', 0.01794346962140414)\n",
      "\t ('php', 0.017078309651029976)\n",
      "\t ('python', 0.01650008382345548)\n",
      "Bottom 10 page rank nodes: \n",
      "\t ('photoshop', 0.0019703691137557254)\n",
      "\t ('mvc', 0.002158191479575023)\n",
      "\t ('drupal', 0.0023140343226593844)\n",
      "\t ('xamarin', 0.0023196333796145236)\n",
      "\t ('unity3d', 0.002333092773604437)\n",
      "\t ('ionic-framework', 0.002426043436685366)\n",
      "\t ('visual-studio', 0.002444826186040644)\n",
      "\t ('api', 0.0025794761495096614)\n",
      "\t ('vue.js', 0.0026662375974277385)\n",
      "\t ('eclipse', 0.0026786899507819256)\n"
     ]
    }
   ],
   "source": [
    "import operator #used to sort the dictionary\n",
    "\n",
    "#apply pageRank algorithm to graph\n",
    "pageRank = nx.pagerank(g)\n",
    "\n",
    "#sort dictionary and turn it into a list\n",
    "sorted_pageRank = list(sorted(pageRank.items(), key=operator.itemgetter(1), reverse=True))\n",
    "sorted_pageRank \n",
    "\n",
    "print('Top 10 page rank nodes: ')\n",
    "for i in range(10):\n",
    "    print('\\t',sorted_pageRank[i])\n",
    "    \n",
    "print('Bottom 10 page rank nodes: ')\n",
    "for i in range(10):\n",
    "    print('\\t',sorted_pageRank[-(i+1)])\n",
    "    \n"
   ]
  },
  {
   "cell_type": "code",
   "execution_count": null,
   "metadata": {},
   "outputs": [],
   "source": []
  },
  {
   "cell_type": "code",
   "execution_count": null,
   "metadata": {},
   "outputs": [],
   "source": []
  }
 ],
 "metadata": {
  "kernelspec": {
   "display_name": "Python 3",
   "language": "python",
   "name": "python3"
  },
  "language_info": {
   "codemirror_mode": {
    "name": "ipython",
    "version": 3
   },
   "file_extension": ".py",
   "mimetype": "text/x-python",
   "name": "python",
   "nbconvert_exporter": "python",
   "pygments_lexer": "ipython3",
   "version": "3.7.3"
  }
 },
 "nbformat": 4,
 "nbformat_minor": 2
}
